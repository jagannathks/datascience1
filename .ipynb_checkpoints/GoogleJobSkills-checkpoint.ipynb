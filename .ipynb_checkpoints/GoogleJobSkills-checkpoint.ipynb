{
 "cells": [
  {
   "cell_type": "code",
   "execution_count": 8,
   "metadata": {},
   "outputs": [
    {
     "name": "stdout",
     "output_type": "stream",
     "text": [
      "combats.csv\n",
      "job_skills-1.csv\n",
      "job_skills-2.csv\n",
      "pokemon.csv\n",
      "tests.csv\n",
      "\n"
     ]
    }
   ],
   "source": [
    "# This Python 3 environment comes with many helpful analytics libraries installed\n",
    "# It is defined by the kaggle/python docker image: https://github.com/kaggle/docker-python\n",
    "# For example, here's several helpful packages to load in \n",
    "# pandas for handling our dataset\n",
    "import pandas as pd\n",
    "# numpy for numeric operations\n",
    "import numpy as np\n",
    "from collections import defaultdict\n",
    "\n",
    "# matplotlib for plotting\n",
    "import matplotlib.pyplot as plt\n",
    "# use ggplot style\n",
    "plt.style.use('ggplot')\n",
    "# seaborn for beautiful visualizations\n",
    "import seaborn as sns\n",
    "# regualar expression\n",
    "import re\n",
    "# print inline in this notebook\n",
    "%matplotlib inline\n",
    "\n",
    "# Input data files are available in the \"../input/\" directory.\n",
    "# For example, running this (by clicking run or pressing Shift+Enter) will list the files in the input directory\n",
    "\n",
    "from subprocess import check_output\n",
    "print(check_output([\"ls\", \"./input\"]).decode(\"utf8\"))\n",
    "\n",
    "# Any results you write to the current directory are saved as output.\n",
    "\n",
    "\n",
    "\n"
   ]
  },
  {
   "cell_type": "code",
   "execution_count": 10,
   "metadata": {},
   "outputs": [
    {
     "data": {
      "text/html": [
       "<div>\n",
       "<style scoped>\n",
       "    .dataframe tbody tr th:only-of-type {\n",
       "        vertical-align: middle;\n",
       "    }\n",
       "\n",
       "    .dataframe tbody tr th {\n",
       "        vertical-align: top;\n",
       "    }\n",
       "\n",
       "    .dataframe thead th {\n",
       "        text-align: right;\n",
       "    }\n",
       "</style>\n",
       "<table border=\"1\" class=\"dataframe\">\n",
       "  <thead>\n",
       "    <tr style=\"text-align: right;\">\n",
       "      <th></th>\n",
       "      <th>Company</th>\n",
       "      <th>Title</th>\n",
       "      <th>Category</th>\n",
       "      <th>Location</th>\n",
       "      <th>Responsibilities</th>\n",
       "      <th>Minimum Qualifications</th>\n",
       "      <th>Preferred Qualifications</th>\n",
       "    </tr>\n",
       "  </thead>\n",
       "  <tbody>\n",
       "    <tr>\n",
       "      <th>0</th>\n",
       "      <td>Google</td>\n",
       "      <td>Google Cloud Program Manager</td>\n",
       "      <td>Program Management</td>\n",
       "      <td>Singapore</td>\n",
       "      <td>Shape, shepherd, ship, and show technical prog...</td>\n",
       "      <td>BA/BS degree or equivalent practical experienc...</td>\n",
       "      <td>Experience in the business technology market a...</td>\n",
       "    </tr>\n",
       "    <tr>\n",
       "      <th>1</th>\n",
       "      <td>Google</td>\n",
       "      <td>Supplier Development Engineer (SDE), Cable/Con...</td>\n",
       "      <td>Manufacturing &amp; Supply Chain</td>\n",
       "      <td>Shanghai, China</td>\n",
       "      <td>Drive cross-functional activities in the suppl...</td>\n",
       "      <td>BS degree in an Engineering discipline or equi...</td>\n",
       "      <td>BSEE, BSME or BSIE degree.\\nExperience of usin...</td>\n",
       "    </tr>\n",
       "    <tr>\n",
       "      <th>2</th>\n",
       "      <td>Google</td>\n",
       "      <td>Data Analyst, Product and Tools Operations, Go...</td>\n",
       "      <td>Technical Solutions</td>\n",
       "      <td>New York, NY, United States</td>\n",
       "      <td>Collect and analyze data to draw insight and i...</td>\n",
       "      <td>Bachelor’s degree in Business, Economics, Stat...</td>\n",
       "      <td>Experience partnering or consulting cross-func...</td>\n",
       "    </tr>\n",
       "    <tr>\n",
       "      <th>3</th>\n",
       "      <td>Google</td>\n",
       "      <td>Developer Advocate, Partner Engineering</td>\n",
       "      <td>Developer Relations</td>\n",
       "      <td>Mountain View, CA, United States</td>\n",
       "      <td>Work one-on-one with the top Android, iOS, and...</td>\n",
       "      <td>BA/BS degree in Computer Science or equivalent...</td>\n",
       "      <td>Experience as a software developer, architect,...</td>\n",
       "    </tr>\n",
       "    <tr>\n",
       "      <th>4</th>\n",
       "      <td>Google</td>\n",
       "      <td>Program Manager, Audio Visual (AV) Deployments</td>\n",
       "      <td>Program Management</td>\n",
       "      <td>Sunnyvale, CA, United States</td>\n",
       "      <td>Plan requirements with internal customers.\\nPr...</td>\n",
       "      <td>BA/BS degree or equivalent practical experienc...</td>\n",
       "      <td>CTS Certification.\\nExperience in the construc...</td>\n",
       "    </tr>\n",
       "  </tbody>\n",
       "</table>\n",
       "</div>"
      ],
      "text/plain": [
       "  Company                                              Title  \\\n",
       "0  Google                       Google Cloud Program Manager   \n",
       "1  Google  Supplier Development Engineer (SDE), Cable/Con...   \n",
       "2  Google  Data Analyst, Product and Tools Operations, Go...   \n",
       "3  Google            Developer Advocate, Partner Engineering   \n",
       "4  Google     Program Manager, Audio Visual (AV) Deployments   \n",
       "\n",
       "                       Category                          Location  \\\n",
       "0            Program Management                         Singapore   \n",
       "1  Manufacturing & Supply Chain                   Shanghai, China   \n",
       "2           Technical Solutions       New York, NY, United States   \n",
       "3           Developer Relations  Mountain View, CA, United States   \n",
       "4            Program Management      Sunnyvale, CA, United States   \n",
       "\n",
       "                                    Responsibilities  \\\n",
       "0  Shape, shepherd, ship, and show technical prog...   \n",
       "1  Drive cross-functional activities in the suppl...   \n",
       "2  Collect and analyze data to draw insight and i...   \n",
       "3  Work one-on-one with the top Android, iOS, and...   \n",
       "4  Plan requirements with internal customers.\\nPr...   \n",
       "\n",
       "                              Minimum Qualifications  \\\n",
       "0  BA/BS degree or equivalent practical experienc...   \n",
       "1  BS degree in an Engineering discipline or equi...   \n",
       "2  Bachelor’s degree in Business, Economics, Stat...   \n",
       "3  BA/BS degree in Computer Science or equivalent...   \n",
       "4  BA/BS degree or equivalent practical experienc...   \n",
       "\n",
       "                            Preferred Qualifications  \n",
       "0  Experience in the business technology market a...  \n",
       "1  BSEE, BSME or BSIE degree.\\nExperience of usin...  \n",
       "2  Experience partnering or consulting cross-func...  \n",
       "3  Experience as a software developer, architect,...  \n",
       "4  CTS Certification.\\nExperience in the construc...  "
      ]
     },
     "execution_count": 10,
     "metadata": {},
     "output_type": "execute_result"
    }
   ],
   "source": [
    "# read the data set using pandas .read_csv() method\n",
    "df_job_skills = pd.read_csv('./input/job_skills-1.csv')\n",
    "# print the top 5 row from the dataframe\n",
    "df_job_skills.head()"
   ]
  },
  {
   "cell_type": "code",
   "execution_count": 11,
   "metadata": {},
   "outputs": [],
   "source": [
    "# most popular language list \n",
    "programing_language_list = ['python', 'java', 'c++', 'php', 'javascript', 'objective-c', 'ruby', 'perl','c','c#', 'sql','kotlin']\n",
    "\n"
   ]
  },
  {
   "cell_type": "code",
   "execution_count": 13,
   "metadata": {},
   "outputs": [],
   "source": [
    "# get our Minimum Qualifications column and convert all of the values to a list\n",
    "minimum_qualifications = df_job_skills['Minimum Qualifications'].tolist()\n",
    "# let's join our list to a single string and lower case the letter\n",
    "miniumum_qualifications_string = \"\".join(str(v) for v in minimum_qualifications).lower()\n",
    "\n"
   ]
  },
  {
   "cell_type": "code",
   "execution_count": 14,
   "metadata": {},
   "outputs": [
    {
     "name": "stdout",
     "output_type": "stream",
     "text": [
      "{'python': 97, 'java': 76, 'c++': 54, 'php': 7, 'javascript': 77, 'objective-c': 3, 'ruby': 14, 'perl': 6, 'c': 18, 'c#': 15, 'sql': 73, 'kotlin': 3}\n"
     ]
    }
   ],
   "source": [
    "# find out which language occurs in most in minimum Qualifications string\n",
    "wordcount = dict((x,0) for x in programing_language_list)\n",
    "for w in re.findall(r\"[\\w'+#-]+|[.!?;’]\", miniumum_qualifications_string):\n",
    "    if w in wordcount:\n",
    "        wordcount[w] += 1\n",
    "# print\n",
    "print(wordcount)"
   ]
  },
  {
   "cell_type": "code",
   "execution_count": 16,
   "metadata": {},
   "outputs": [
    {
     "name": "stdout",
     "output_type": "stream",
     "text": [
      "[('python', 97), ('javascript', 77), ('java', 76), ('sql', 73), ('c++', 54), ('c', 18), ('c#', 15), ('ruby', 14), ('php', 7), ('perl', 6), ('objective-c', 3), ('kotlin', 3)]\n"
     ]
    }
   ],
   "source": [
    "# sort the dict\n",
    "programming_language_popularity = sorted(wordcount.items(), key=lambda kv: kv[1], reverse=True)\n",
    "\n",
    "print(programming_language_popularity)"
   ]
  },
  {
   "cell_type": "code",
   "execution_count": 22,
   "metadata": {},
   "outputs": [
    {
     "name": "stdout",
     "output_type": "stream",
     "text": [
      "       Language  Popularity\n",
      "11       Kotlin           3\n",
      "10  Objective-c           3\n",
      "9          Perl           6\n",
      "8           Php           7\n",
      "7          Ruby          14\n",
      "6            C#          15\n",
      "5             C          18\n",
      "4           C++          54\n",
      "3           Sql          73\n",
      "2          Java          76\n",
      "1    Javascript          77\n",
      "0        Python          97\n"
     ]
    }
   ],
   "source": [
    "# make a new dataframe using programming_language_popularity for easy use cases\n",
    "df_popular_programming_lang = pd.DataFrame(programming_language_popularity,columns=['Language','Popularity'])\n",
    "# Capitalize each programming language first letter\n",
    "df_popular_programming_lang['Language'] = df_popular_programming_lang.Language.str.capitalize()\n",
    "df_popular_programming_lang = df_popular_programming_lang[::-1]\n",
    "\n",
    "print(df_popular_programming_lang)"
   ]
  },
  {
   "cell_type": "code",
   "execution_count": 26,
   "metadata": {},
   "outputs": [
    {
     "data": {
      "image/png": "[encoded data removed]",
      "text/plain": [
       "<Figure size 720x576 with 1 Axes>"
      ]
     },
     "metadata": {},
     "output_type": "display_data"
    }
   ],
   "source": [
    "# plot\n",
    "df_popular_programming_lang.plot.barh(x='Language',y='Popularity',figsize=(10,8), legend=False)\n",
    "# add a suptitle\n",
    "plt.suptitle(\"Programming Languages popularity at Google Jobs\", fontsize=18)\n",
    "# set xlabel to \"\"\n",
    "plt.xlabel(\"Popularity\")\n",
    "# change xticks fontsize to 14\n",
    "plt.yticks(fontsize=14)\n",
    "# finally show the plot\n",
    "plt.show()"
   ]
  },
  {
   "cell_type": "code",
   "execution_count": 59,
   "metadata": {},
   "outputs": [],
   "source": [
    "degree_list = [\"ba\", \"bs\", \"bachelor's\", \"phd\", \"master's\"]"
   ]
  },
  {
   "cell_type": "code",
   "execution_count": 60,
   "metadata": {},
   "outputs": [
    {
     "name": "stdout",
     "output_type": "stream",
     "text": [
      "{'ba': 800, 'bs': 877, \"bachelor's\": 147, 'phd': 8, \"master's\": 49}\n"
     ]
    }
   ],
   "source": [
    "#print(miniumum_qualifications_string)\n",
    "wordcount = dict((x,0) for x in degree_list)\n",
    "\n",
    "for w in re.findall(r\"[\\w']+|[.,!?;’]\", miniumum_qualifications_string, flags=re.IGNORECASE):\n",
    "\n",
    "    if w in wordcount:\n",
    "        wordcount[w] += 1\n",
    "# print\n",
    "print(wordcount)"
   ]
  },
  {
   "cell_type": "code",
   "execution_count": 63,
   "metadata": {},
   "outputs": [
    {
     "name": "stdout",
     "output_type": "stream",
     "text": [
      "[('bs', 877), ('ba', 800), (\"bachelor's\", 147), (\"master's\", 49), ('phd', 8)]\n"
     ]
    }
   ],
   "source": [
    "degree_popularity = sorted(wordcount.items(), key=lambda kv: kv[1], reverse=True)\n",
    "\n",
    "print(degree_popularity)"
   ]
  },
  {
   "cell_type": "code",
   "execution_count": 67,
   "metadata": {},
   "outputs": [],
   "source": [
    "df_degree_popular = pd.DataFrame(degree_popularity,columns=['Degree','Popularity'])"
   ]
  },
  {
   "cell_type": "code",
   "execution_count": 68,
   "metadata": {},
   "outputs": [
    {
     "data": {
      "image/png": "[encoded data removed]",
      "text/plain": [
       "<Figure size 1080x720 with 1 Axes>"
      ]
     },
     "metadata": {},
     "output_type": "display_data"
    }
   ],
   "source": [
    "df_degree_popular = df_degree_popular[::-1] \n",
    "# plot\n",
    "df_degree_popular.plot.barh(x='Degree',y='Popularity',figsize=(15,10), stacked=True)\n",
    "# add a suptitle\n",
    "plt.suptitle(\"Popularity of academic degree at Google Jobs \", fontsize=18)\n",
    "# set xlabel to \"\"\n",
    "plt.xlabel(\"\")\n",
    "# change xticks fontsize to 14\n",
    "plt.yticks(fontsize=18)\n",
    "# finally show the plot\n",
    "plt.show()"
   ]
  },
  {
   "cell_type": "code",
   "execution_count": 74,
   "metadata": {},
   "outputs": [
    {
     "name": "stdout",
     "output_type": "stream",
     "text": [
      "defaultdict(<function <lambda> at 0x11580de18>, {'3': 114, '7': 41, '2': 60, '1': 16, '4': 92, '10': 76, '5': 181, '12': 18, '8': 65, '6': 60, '9': 8, '15': 4, '13': 1, '11': 1, '14': 1})\n"
     ]
    }
   ],
   "source": [
    "# this portion of code is taken from https://www.kaggle.com/djcarlos/are-you-experienced-enough-to-work-at-google \n",
    "years_exp = defaultdict(lambda: 0)\n",
    "\n",
    "for w in re.findall(r'([0-9]+) year', miniumum_qualifications_string):\n",
    "     years_exp[w] += 1\n",
    "        \n",
    "print(years_exp)"
   ]
  },
  {
   "cell_type": "code",
   "execution_count": 75,
   "metadata": {},
   "outputs": [],
   "source": [
    "years_exp = sorted(years_exp.items(), key=lambda kv: kv[1], reverse=True)\n"
   ]
  },
  {
   "cell_type": "code",
   "execution_count": 77,
   "metadata": {},
   "outputs": [
    {
     "name": "stdout",
     "output_type": "stream",
     "text": [
      "<bound method NDFrame.head of    Years of experience  Popularity\n",
      "14                  14           1\n",
      "13                  11           1\n",
      "12                  13           1\n",
      "11                  15           4\n",
      "10                   9           8\n",
      "9                    1          16\n",
      "8                   12          18\n",
      "7                    7          41\n",
      "6                    6          60\n",
      "5                    2          60\n",
      "4                    8          65\n",
      "3                   10          76\n",
      "2                    4          92\n",
      "1                    3         114\n",
      "0                    5         181>\n"
     ]
    }
   ],
   "source": [
    "df_years_exp = pd.DataFrame(years_exp,columns=['Years of experience','Popularity'])\n",
    "df_years_exp = df_years_exp[::-1] \n",
    "\n",
    "print(df_years_exp.head)"
   ]
  },
  {
   "cell_type": "code",
   "execution_count": 78,
   "metadata": {},
   "outputs": [
    {
     "data": {
      "image/png": "[encoded data removed]",
      "text/plain": [
       "<Figure size 720x576 with 1 Axes>"
      ]
     },
     "metadata": {},
     "output_type": "display_data"
    }
   ],
   "source": [
    "# plot\n",
    "df_years_exp.plot.barh(x='Years of experience',y='Popularity',figsize=(10, 8), legend=False,stacked=True)\n",
    "# add a suptitle\n",
    "plt.title(\"Years of experiences needed for Google Jobs\", fontsize=18)\n",
    "# set xlabel to \"\"\n",
    "plt.xlabel(\"Popularity\", fontsize=14)\n",
    "plt.ylabel(\"Years of experiences\",fontsize=18)\n",
    "# change xticks fontsize to 14\n",
    "plt.yticks(fontsize=18)\n",
    "# finally show the plot\n",
    "plt.show()"
   ]
  },
  {
   "cell_type": "markdown",
   "metadata": {},
   "source": [
    "# 5. Let's find out which job category Google wants more experiences."
   ]
  },
  {
   "cell_type": "code",
   "execution_count": 86,
   "metadata": {},
   "outputs": [],
   "source": [
    "df_job_skills['Experience'] = df_job_skills['Minimum Qualifications'].str.extract(r'([0-9]+) year', expand=False)\n",
    "\n",
    "#print(df_job_skills)"
   ]
  },
  {
   "cell_type": "code",
   "execution_count": 88,
   "metadata": {},
   "outputs": [
    {
     "name": "stdout",
     "output_type": "stream",
     "text": [
      "     Experience                          Category\n",
      "0             3                Program Management\n",
      "1             7      Manufacturing & Supply Chain\n",
      "2             2               Technical Solutions\n",
      "4             4                Program Management\n",
      "6            10              Hardware Engineering\n",
      "7             5                      Partnerships\n",
      "8             5      Manufacturing & Supply Chain\n",
      "10            4        Product & Customer Support\n",
      "11            5                      Partnerships\n",
      "13            5        Product & Customer Support\n",
      "18            3              Hardware Engineering\n",
      "19            5                Program Management\n",
      "23            5        Product & Customer Support\n",
      "24            7                Program Management\n",
      "27            5             Data Center & Network\n",
      "29           10               Technical Solutions\n",
      "30            3                Program Management\n",
      "33           12                 Business Strategy\n",
      "36            3      Manufacturing & Supply Chain\n",
      "42            4                Program Management\n",
      "49            2          Technical Infrastructure\n",
      "51            5                Program Management\n",
      "56            5                      Partnerships\n",
      "59            5      Manufacturing & Supply Chain\n",
      "61           10                Program Management\n",
      "63            3               Technical Solutions\n",
      "64           10              Hardware Engineering\n",
      "65            3              Software Engineering\n",
      "73            5                Program Management\n",
      "74           10                Program Management\n",
      "...         ...                               ...\n",
      "1207          2                 People Operations\n",
      "1211         10                 People Operations\n",
      "1212          6                 People Operations\n",
      "1214          5                    Administrative\n",
      "1215         10                 People Operations\n",
      "1218          3                 People Operations\n",
      "1220          2                 People Operations\n",
      "1221          6        Marketing & Communications\n",
      "1222         10  Real Estate & Workplace Services\n",
      "1223         10  Real Estate & Workplace Services\n",
      "1224          5  Real Estate & Workplace Services\n",
      "1225          5  Real Estate & Workplace Services\n",
      "1226          5  Real Estate & Workplace Services\n",
      "1227          1        Marketing & Communications\n",
      "1228         10  Real Estate & Workplace Services\n",
      "1229          7  Real Estate & Workplace Services\n",
      "1230          5  Real Estate & Workplace Services\n",
      "1231         10  Real Estate & Workplace Services\n",
      "1232          4  Real Estate & Workplace Services\n",
      "1233         10  Real Estate & Workplace Services\n",
      "1234          4  Real Estate & Workplace Services\n",
      "1238          7                Program Management\n",
      "1239         10  Real Estate & Workplace Services\n",
      "1240          5        Marketing & Communications\n",
      "1241         10  Real Estate & Workplace Services\n",
      "1243         10  Real Estate & Workplace Services\n",
      "1244          5  Real Estate & Workplace Services\n",
      "1245          4  Real Estate & Workplace Services\n",
      "1246          7  Real Estate & Workplace Services\n",
      "1247          8  Real Estate & Workplace Services\n",
      "\n",
      "[647 rows x 2 columns]\n"
     ]
    }
   ],
   "source": [
    "dff = df_job_skills[['Experience','Category']]\n",
    "dff = dff.dropna()\n",
    "\n",
    "#print(dff)"
   ]
  },
  {
   "cell_type": "code",
   "execution_count": null,
   "metadata": {},
   "outputs": [],
   "source": []
  }
 ],
 "metadata": {
  "kernelspec": {
   "display_name": "Python 3",
   "language": "python",
   "name": "python3"
  },
  "language_info": {
   "codemirror_mode": {
    "name": "ipython",
    "version": 3
   },
   "file_extension": ".py",
   "mimetype": "text/x-python",
   "name": "python",
   "nbconvert_exporter": "python",
   "pygments_lexer": "ipython3",
   "version": "3.6.1"
  }
 },
 "nbformat": 4,
 "nbformat_minor": 2
}
