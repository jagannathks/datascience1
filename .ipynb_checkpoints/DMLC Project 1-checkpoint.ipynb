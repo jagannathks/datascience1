{
 "cells": [
  {
   "cell_type": "code",
   "execution_count": 2,
   "metadata": {},
   "outputs": [
    {
     "name": "stdout",
     "output_type": "stream",
     "text": [
      "DMLC_data_Jag.csv\n",
      "combats.csv\n",
      "db_timesheet_log.csv\n",
      "dice_us_jobs.csv\n",
      "dmlc_responses.csv\n",
      "job_skills-1.csv\n",
      "job_skills-2.csv\n",
      "kc_house_data.csv\n",
      "pokemon.csv\n",
      "tests.csv\n",
      "\n"
     ]
    }
   ],
   "source": [
    "# This Python 3 environment comes with many helpful analytics libraries installed\n",
    "# It is defined by the kaggle/python docker image: https://github.com/kaggle/docker-python\n",
    "# For example, here's several helpful packages to load in \n",
    "# pandas for handling our dataset\n",
    "import pandas as pd\n",
    "# numpy for numeric operations\n",
    "import numpy as np\n",
    "from collections import defaultdict\n",
    "\n",
    "# matplotlib for plotting\n",
    "import matplotlib.pyplot as plt\n",
    "# use ggplot style\n",
    "plt.style.use('ggplot')\n",
    "# seaborn for beautiful visualizations\n",
    "import seaborn as sns\n",
    "# regualar expression\n",
    "import re\n",
    "# print inline in this notebook\n",
    "%matplotlib inline\n",
    "\n",
    "# Input data files are available in the \"../input/\" directory.\n",
    "# For example, running this (by clicking run or pressing Shift+Enter) will list the files in the input directory\n",
    "\n",
    "from subprocess import check_output\n",
    "print(check_output([\"ls\", \"./input\"]).decode(\"utf8\"))\n",
    "\n",
    "# Any results you write to the current directory are saved as output.\n"
   ]
  },
  {
   "cell_type": "code",
   "execution_count": 3,
   "metadata": {},
   "outputs": [
    {
     "data": {
      "text/html": [
       "<div>\n",
       "<style scoped>\n",
       "    .dataframe tbody tr th:only-of-type {\n",
       "        vertical-align: middle;\n",
       "    }\n",
       "\n",
       "    .dataframe tbody tr th {\n",
       "        vertical-align: top;\n",
       "    }\n",
       "\n",
       "    .dataframe thead th {\n",
       "        text-align: right;\n",
       "    }\n",
       "</style>\n",
       "<table border=\"1\" class=\"dataframe\">\n",
       "  <thead>\n",
       "    <tr style=\"text-align: right;\">\n",
       "      <th></th>\n",
       "      <th>Timestamp</th>\n",
       "      <th>AgeRange</th>\n",
       "      <th>State</th>\n",
       "      <th>NativeEnglishSpeaker</th>\n",
       "      <th>ReflexTime</th>\n",
       "      <th>WordsRemembered</th>\n",
       "      <th>NativeSpeaker</th>\n",
       "      <th>IsNewHampshire</th>\n",
       "    </tr>\n",
       "  </thead>\n",
       "  <tbody>\n",
       "    <tr>\n",
       "      <th>0</th>\n",
       "      <td>7/31/18 15:46</td>\n",
       "      <td>35-44</td>\n",
       "      <td>New Hampshire</td>\n",
       "      <td>No</td>\n",
       "      <td>0.427</td>\n",
       "      <td>6</td>\n",
       "      <td>0</td>\n",
       "      <td>1</td>\n",
       "    </tr>\n",
       "    <tr>\n",
       "      <th>1</th>\n",
       "      <td>7/31/18 16:07</td>\n",
       "      <td>55-64</td>\n",
       "      <td>New Hampshire</td>\n",
       "      <td>Yes</td>\n",
       "      <td>0.409</td>\n",
       "      <td>3</td>\n",
       "      <td>1</td>\n",
       "      <td>1</td>\n",
       "    </tr>\n",
       "    <tr>\n",
       "      <th>2</th>\n",
       "      <td>7/31/18 16:14</td>\n",
       "      <td>45-54</td>\n",
       "      <td>New Hampshire</td>\n",
       "      <td>Yes</td>\n",
       "      <td>0.390</td>\n",
       "      <td>5</td>\n",
       "      <td>1</td>\n",
       "      <td>1</td>\n",
       "    </tr>\n",
       "    <tr>\n",
       "      <th>3</th>\n",
       "      <td>7/31/18 16:19</td>\n",
       "      <td>55-64</td>\n",
       "      <td>Vermont</td>\n",
       "      <td>No</td>\n",
       "      <td>0.310</td>\n",
       "      <td>6</td>\n",
       "      <td>0</td>\n",
       "      <td>0</td>\n",
       "    </tr>\n",
       "    <tr>\n",
       "      <th>4</th>\n",
       "      <td>7/31/18 16:27</td>\n",
       "      <td>18-24</td>\n",
       "      <td>Vermont</td>\n",
       "      <td>Yes</td>\n",
       "      <td>0.410</td>\n",
       "      <td>6</td>\n",
       "      <td>1</td>\n",
       "      <td>0</td>\n",
       "    </tr>\n",
       "  </tbody>\n",
       "</table>\n",
       "</div>"
      ],
      "text/plain": [
       "       Timestamp AgeRange          State NativeEnglishSpeaker  ReflexTime  \\\n",
       "0  7/31/18 15:46    35-44  New Hampshire                   No       0.427   \n",
       "1  7/31/18 16:07    55-64  New Hampshire                  Yes       0.409   \n",
       "2  7/31/18 16:14    45-54  New Hampshire                  Yes       0.390   \n",
       "3  7/31/18 16:19    55-64        Vermont                   No       0.310   \n",
       "4  7/31/18 16:27    18-24        Vermont                  Yes       0.410   \n",
       "\n",
       "   WordsRemembered  NativeSpeaker  IsNewHampshire  \n",
       "0                6              0               1  \n",
       "1                3              1               1  \n",
       "2                5              1               1  \n",
       "3                6              0               0  \n",
       "4                6              1               0  "
      ]
     },
     "execution_count": 3,
     "metadata": {},
     "output_type": "execute_result"
    }
   ],
   "source": [
    "# read the data set using pandas .read_csv() method\n",
    "df_responses = pd.read_csv('./input/dmlc_responses.csv')\n",
    "# print the top 5 row from the dataframe\n",
    "df_responses.head()"
   ]
  },
  {
   "cell_type": "code",
   "execution_count": 4,
   "metadata": {},
   "outputs": [],
   "source": [
    "age_ranges = ['18-24', '25-34', '35-44', '45-54', '55-64', '65-74']"
   ]
  },
  {
   "cell_type": "code",
   "execution_count": 5,
   "metadata": {},
   "outputs": [
    {
     "name": "stdout",
     "output_type": "stream",
     "text": [
      "['35-44', '55-64', '45-54', '55-64', '18-24', '25-34', '55-64', '25-34', '25-34', '45-54', '35-44', '25-34', '18-24', '25-34', '55-64', '25-34', '25-34', '25-34', '35-44', '25-34', '25-34', '25-34', '45-54', '25-34', '45-54', '35-44', '18-24', '45-54', '45-54', '18-24', '25-34', '25-34', '18-24', '25-34', '35-44', '25-34', '35-44', '35-44', '25-34', '45-54', '35-44', '45-54', '25-34', '45-54', '65-74', '55-64', '45-54', '25-34', '45-54', '18-24', '35-44', '25-34', '35-44', '25-34', '25-34', '18-24', '25-34', '35-44', '25-34', '18-24', '35-44', '25-34', '55-64', '25-34', '45-54', '45-54', '25-34', '35-44', '25-34', '25-34', '45-54', '65-74', '25-34', '35-44', '18-24', '25-34', '45-54', '25-34', '25-34', '35-44', '35-44', '55-64']\n"
     ]
    }
   ],
   "source": [
    "# get our age raneg column and convert all of the values to a list\n",
    "age_ranges = df_responses['AgeRange'].tolist()\n",
    "print(age_ranges)"
   ]
  },
  {
   "cell_type": "code",
   "execution_count": 6,
   "metadata": {},
   "outputs": [
    {
     "name": "stdout",
     "output_type": "stream",
     "text": [
      "{'35-44': 16, '55-64': 7, '45-54': 15, '18-24': 9, '25-34': 33, '65-74': 2}\n"
     ]
    }
   ],
   "source": [
    "# find out which age range occurance\n",
    "age_ranges_dist = dict((x,0) for x in age_ranges)\n",
    "\n",
    "for w in age_ranges:\n",
    "    if w in age_ranges_dist:\n",
    "        age_ranges_dist[w] += 1\n",
    "        \n",
    "print(age_ranges_dist)"
   ]
  },
  {
   "cell_type": "code",
   "execution_count": 7,
   "metadata": {},
   "outputs": [
    {
     "name": "stdout",
     "output_type": "stream",
     "text": [
      "[('65-74', 2), ('55-64', 7), ('45-54', 15), ('35-44', 16), ('25-34', 33), ('18-24', 9)]\n"
     ]
    }
   ],
   "source": [
    "age_ranges_grp = list(age_ranges_dist.items()) #sorted(age_ranges_dist.items(), key=lambda kv: kv[1], reverse=True)\n",
    "\n",
    "age_ranges_grp = sorted(age_ranges_dist.items(), key=lambda kv: kv, reverse=True)\n",
    "print(age_ranges_grp)"
   ]
  },
  {
   "cell_type": "code",
   "execution_count": 8,
   "metadata": {},
   "outputs": [],
   "source": [
    "df_age_ranges = pd.DataFrame(age_ranges_grp,columns=['AgeRange','#People'])"
   ]
  },
  {
   "cell_type": "code",
   "execution_count": 9,
   "metadata": {
    "scrolled": true
   },
   "outputs": [
    {
     "data": {
      "image/png": "[encoded data removed]",
      "text/plain": [
       "<Figure size 1080x720 with 1 Axes>"
      ]
     },
     "metadata": {},
     "output_type": "display_data"
    }
   ],
   "source": [
    "df_age_ranges = df_age_ranges[::1] \n",
    "# plot\n",
    "df_age_ranges.plot.bar(x='AgeRange',y='#People',figsize=(15,10), stacked=True)\n",
    "# add a suptitle\n",
    "plt.suptitle(\"Age Range Distribution\", fontsize=18)\n",
    "# set xlabel to \"\"\n",
    "plt.xlabel(\"\")\n",
    "# change xticks fontsize to 14\n",
    "plt.yticks(fontsize=18)\n",
    "# finally show the plot\n",
    "plt.show()"
   ]
  },
  {
   "cell_type": "code",
   "execution_count": 10,
   "metadata": {},
   "outputs": [
    {
     "name": "stdout",
     "output_type": "stream",
     "text": [
      "{'35-44': [], '55-64': [], '45-54': [], '18-24': [], '25-34': [], '65-74': []}\n"
     ]
    }
   ],
   "source": [
    "\n",
    "# age and reflection distribution\n",
    "age_reflex_dist = dict((x,[]) for x in age_ranges)\n",
    "print(age_reflex_dist)\n",
    "\n"
   ]
  },
  {
   "cell_type": "code",
   "execution_count": 11,
   "metadata": {},
   "outputs": [
    {
     "name": "stdout",
     "output_type": "stream",
     "text": [
      "{'35-44': [6, 4, 6, 6, 5, 6, 7, 8, 2, 5, 6, 7, 8, 1, 6, 5], '55-64': [3, 6, 5, 9, 23, 10, 5], '45-54': [5, 6, 5, 0, 7, 7, 3, 5, 5, 8, 6, 5, 5, 5, 5], '18-24': [6, 5, 10, 7, 7, 9, 5, 0, 5], '25-34': [6, 5, 6, 5, 6, 3, 1, 8, 5, 5, 10, 5, 7, 5, 8, 5, 8, 7, 9, 5, 5, 7, 9, 9, 10, 6, 0, 3, 4, 13, 11, 4, 6], '65-74': [2, 6]}\n",
      "{'35-44': [0.42700000000000005, 0.355, 0.375, 0.43200000000000005, 0.315, 0.39799999999999996, 0.478, 0.247, 0.36, 0.382, 0.32899999999999996, 0.316, 0.278, 0.268, 0.428, 0.218], '55-64': [0.409, 0.31, 0.255, 0.28, 0.0429, 0.12, 0.33], '45-54': [0.39, 0.35, 0.309, 0.355, 0.426, 0.27899999999999997, 0.42, 0.345, 0.408, 0.335, 0.337, 0.322, 0.341, 0.301, 0.47], '18-24': [0.41, 0.337, 0.34, 0.262, 0.245, 0.285, 0.31, 0.413, 0.336], '25-34': [0.259, 0.271, 0.327, 0.498, 0.295, 0.39899999999999997, 0.309, 0.218, 0.363, 0.298, 0.33799999999999997, 0.255, 0.301, 1.329, 0.275, 0.317, 0.376, 0.313, 0.242, 0.36200000000000004, 0.364, 0.295, 0.294, 0.42, 0.271, 0.319, 0.68, 0.396, 0.27899999999999997, 1.29, 0.278, 0.245, 0.27899999999999997], '65-74': [0.33, 0.451]}\n"
     ]
    }
   ],
   "source": [
    "#for w in df_responses['AgeRange', 'ReflexTime']:\n",
    "#  print(w)\n",
    "\n",
    "words_dict = dict((x,[]) for x in age_ranges)\n",
    "reflextime_dict = dict((x,[]) for x in age_ranges)\n",
    "\n",
    "for index, row in df_responses.iterrows():\n",
    "    #print( \"%d %d \", row['AgeRange'], row['WordsRemembered'], row['ReflexTime'] )\n",
    "    \n",
    "    words_dict[row['AgeRange']].append(row['WordsRemembered'])\n",
    "    reflextime_dict[row['AgeRange']].append(row['ReflexTime'])\n",
    "    \n",
    "\n",
    "    \n",
    "print(words_dict)\n",
    "print(reflextime_dict)\n",
    "\n",
    "\n"
   ]
  },
  {
   "cell_type": "code",
   "execution_count": 12,
   "metadata": {},
   "outputs": [
    {
     "name": "stdout",
     "output_type": "stream",
     "text": [
      "{'35-44': 5.5, '55-64': 8.714285714285714, '45-54': 5.133333333333334, '18-24': 6.0, '25-34': 6.242424242424242, '65-74': 4.0}\n",
      "{'35-44': 0.350375, '55-64': 0.24955714285714287, '45-54': 0.3592, '18-24': 0.32644444444444437, '25-34': 0.3865151515151516, '65-74': 0.3905}\n"
     ]
    }
   ],
   "source": [
    "words_average = dict((x,[]) for x in age_ranges)\n",
    "reflextime_average = dict((x,[]) for x in age_ranges)\n",
    "\n",
    "for w in words_dict:\n",
    "    w_ave = sum(words_dict[w])/float(len(words_dict[w]))\n",
    "    r_ave = sum(reflextime_dict[w])/float(len(reflextime_dict[w]))\n",
    "    #print(w_ave, r_ave)\n",
    "    words_average[w] = w_ave\n",
    "    reflextime_average[w] = r_ave\n",
    "  \n",
    "\n",
    "print(words_average)\n",
    "print(reflextime_average)"
   ]
  },
  {
   "cell_type": "code",
   "execution_count": 13,
   "metadata": {},
   "outputs": [
    {
     "name": "stdout",
     "output_type": "stream",
     "text": [
      "[('65-74', 4.0), ('55-64', 8.714285714285714), ('45-54', 5.133333333333334), ('35-44', 5.5), ('25-34', 6.242424242424242), ('18-24', 6.0)]\n"
     ]
    },
    {
     "data": {
      "image/png": "[encoded data removed]",
      "text/plain": [
       "<Figure size 1080x720 with 1 Axes>"
      ]
     },
     "metadata": {},
     "output_type": "display_data"
    }
   ],
   "source": [
    "#words_average_grp = list(words_average.items()) \n",
    "\n",
    "words_average_grp = sorted(words_average.items(), key=lambda kv: kv, reverse=True)\n",
    "\n",
    "word_average_grp = words_average.items()\n",
    "\n",
    "print(words_average_grp)\n",
    "\n",
    "df_words_age = pd.DataFrame(words_average_grp, columns=['AgeRange','#Words'])\n",
    "\n",
    "df_words_age = df_words_age[::-1] \n",
    "# plot\n",
    "df_words_age.plot.bar(x='AgeRange', y='#Words', figsize=(15,10), stacked=True)\n",
    "# add a suptitle\n",
    "plt.suptitle(\"AgeRange vs Words\", fontsize=18)\n",
    "# set xlabel to \"\"\n",
    "plt.xlabel(\"\")\n",
    "# change xticks fontsize to 14\n",
    "plt.yticks(fontsize=18)\n",
    "# finally show the plot\n",
    "plt.show()"
   ]
  },
  {
   "cell_type": "code",
   "execution_count": 14,
   "metadata": {},
   "outputs": [
    {
     "name": "stdout",
     "output_type": "stream",
     "text": [
      "[('65-74', 0.3905), ('55-64', 0.24955714285714287), ('45-54', 0.3592), ('35-44', 0.350375), ('25-34', 0.3865151515151516), ('18-24', 0.32644444444444437)]\n"
     ]
    },
    {
     "data": {
      "image/png": "[encoded data removed]",
      "text/plain": [
       "<Figure size 1080x720 with 1 Axes>"
      ]
     },
     "metadata": {},
     "output_type": "display_data"
    }
   ],
   "source": [
    "reflex_average_grp = sorted(reflextime_average.items(), key=lambda kv: kv, reverse=True)\n",
    "\n",
    "print(reflex_average_grp)\n",
    "\n",
    "df_reflex_age = pd.DataFrame(reflex_average_grp, columns=['AgeRange','#Reflex'])\n",
    "\n",
    "df_reflex_age = df_reflex_age[::-1] \n",
    "# plot\n",
    "df_reflex_age.plot.bar(x='AgeRange', y='#Reflex', figsize=(15,10), stacked=True)\n",
    "# add a suptitle\n",
    "plt.suptitle(\"AgeRange vs Reflex\", fontsize=18)\n",
    "# set xlabel to \"\"\n",
    "plt.xlabel(\"\")\n",
    "# change xticks fontsize to 14\n",
    "plt.yticks(fontsize=18)\n",
    "# finally show the plot\n",
    "plt.show()"
   ]
  },
  {
   "cell_type": "code",
   "execution_count": 15,
   "metadata": {},
   "outputs": [
    {
     "name": "stdout",
     "output_type": "stream",
     "text": [
      "[('18-24', 6.0), ('25-34', 6.242424242424242), ('35-44', 5.5), ('45-54', 5.133333333333334), ('55-64', 8.714285714285714), ('65-74', 4.0)]\n"
     ]
    }
   ],
   "source": [
    "sort = sorted(words_average.items(), key=lambda kv: kv, reverse=False)\n",
    "\n",
    "print(sort)"
   ]
  },
  {
   "cell_type": "code",
   "execution_count": 16,
   "metadata": {},
   "outputs": [],
   "source": [
    "data = pd.read_csv('./input/dmlc_responses.csv')"
   ]
  },
  {
   "cell_type": "code",
   "execution_count": 17,
   "metadata": {},
   "outputs": [
    {
     "name": "stdout",
     "output_type": "stream",
     "text": [
      "<class 'pandas.core.frame.DataFrame'>\n",
      "RangeIndex: 82 entries, 0 to 81\n",
      "Data columns (total 8 columns):\n",
      "Timestamp               82 non-null object\n",
      "AgeRange                82 non-null object\n",
      "State                   82 non-null object\n",
      "NativeEnglishSpeaker    82 non-null object\n",
      "ReflexTime              82 non-null float64\n",
      "WordsRemembered         82 non-null int64\n",
      "NativeSpeaker           82 non-null int64\n",
      "IsNewHampshire          82 non-null int64\n",
      "dtypes: float64(1), int64(3), object(4)\n",
      "memory usage: 5.2+ KB\n"
     ]
    }
   ],
   "source": [
    "data.info()"
   ]
  },
  {
   "cell_type": "code",
   "execution_count": 18,
   "metadata": {},
   "outputs": [
    {
     "data": {
      "text/plain": [
       "<matplotlib.axes._subplots.AxesSubplot at 0x11c57ebe0>"
      ]
     },
     "execution_count": 18,
     "metadata": {},
     "output_type": "execute_result"
    },
    {
     "data": {
      "image/png": "[encoded data removed]",
      "text/plain": [
       "<Figure size 576x576 with 2 Axes>"
      ]
     },
     "metadata": {},
     "output_type": "display_data"
    }
   ],
   "source": [
    "f,ax = plt.subplots(figsize=(8, 8))\n",
    "sns.heatmap(data.corr(), annot=True, linewidths=.5, fmt= '.1f',ax=ax)"
   ]
  },
  {
   "cell_type": "code",
   "execution_count": 19,
   "metadata": {},
   "outputs": [
    {
     "data": {
      "text/html": [
       "<div>\n",
       "<style scoped>\n",
       "    .dataframe tbody tr th:only-of-type {\n",
       "        vertical-align: middle;\n",
       "    }\n",
       "\n",
       "    .dataframe tbody tr th {\n",
       "        vertical-align: top;\n",
       "    }\n",
       "\n",
       "    .dataframe thead th {\n",
       "        text-align: right;\n",
       "    }\n",
       "</style>\n",
       "<table border=\"1\" class=\"dataframe\">\n",
       "  <thead>\n",
       "    <tr style=\"text-align: right;\">\n",
       "      <th></th>\n",
       "      <th>ReflexTime</th>\n",
       "      <th>WordsRemembered</th>\n",
       "      <th>NativeSpeaker</th>\n",
       "      <th>IsNewHampshire</th>\n",
       "    </tr>\n",
       "  </thead>\n",
       "  <tbody>\n",
       "    <tr>\n",
       "      <th>ReflexTime</th>\n",
       "      <td>1.000000</td>\n",
       "      <td>-0.109882</td>\n",
       "      <td>-0.108807</td>\n",
       "      <td>0.059453</td>\n",
       "    </tr>\n",
       "    <tr>\n",
       "      <th>WordsRemembered</th>\n",
       "      <td>-0.109882</td>\n",
       "      <td>1.000000</td>\n",
       "      <td>0.048249</td>\n",
       "      <td>0.151528</td>\n",
       "    </tr>\n",
       "    <tr>\n",
       "      <th>NativeSpeaker</th>\n",
       "      <td>-0.108807</td>\n",
       "      <td>0.048249</td>\n",
       "      <td>1.000000</td>\n",
       "      <td>-0.089876</td>\n",
       "    </tr>\n",
       "    <tr>\n",
       "      <th>IsNewHampshire</th>\n",
       "      <td>0.059453</td>\n",
       "      <td>0.151528</td>\n",
       "      <td>-0.089876</td>\n",
       "      <td>1.000000</td>\n",
       "    </tr>\n",
       "  </tbody>\n",
       "</table>\n",
       "</div>"
      ],
      "text/plain": [
       "                 ReflexTime  WordsRemembered  NativeSpeaker  IsNewHampshire\n",
       "ReflexTime         1.000000        -0.109882      -0.108807        0.059453\n",
       "WordsRemembered   -0.109882         1.000000       0.048249        0.151528\n",
       "NativeSpeaker     -0.108807         0.048249       1.000000       -0.089876\n",
       "IsNewHampshire     0.059453         0.151528      -0.089876        1.000000"
      ]
     },
     "execution_count": 19,
     "metadata": {},
     "output_type": "execute_result"
    }
   ],
   "source": [
    "data.corr()"
   ]
  },
  {
   "cell_type": "code",
   "execution_count": 20,
   "metadata": {},
   "outputs": [
    {
     "data": {
      "image/png": "[encoded data removed]",
      "text/plain": [
       "<Figure size 432x288 with 1 Axes>"
      ]
     },
     "metadata": {},
     "output_type": "display_data"
    }
   ],
   "source": [
    "plt.scatter(data.AgeRange, data.ReflexTime, c = \"blue\", marker = \".\")\n",
    "plt.title(\"Visualization - Age, ReflexTime\")\n",
    "plt.xlabel(\"AgeRange\")\n",
    "plt.ylabel(\"ReflexTime\")\n",
    "plt.ylim([0, 2])\n",
    "plt.yticks(np.arange(0, 1.6, 0.1))\n",
    "plt.show()"
   ]
  },
  {
   "cell_type": "code",
   "execution_count": 21,
   "metadata": {},
   "outputs": [],
   "source": [
    "#plt.boxplot(data.AgeRange, data.ReflexTime)\n",
    "#plt.title(\"Visualization - Age, ReflexTime\")\n",
    "#plt.xlabel(\"AgeRange\")\n",
    "#plt.ylabel(\"ReflexTime\")\n",
    "#plt.ylim([0, 2])\n",
    "#plt.yticks(np.arange(0, 1.8, 0.3))\n",
    "#plt.rcParams['figure.figsize'] = [40, 25]\n",
    "#plt.show()"
   ]
  },
  {
   "cell_type": "code",
   "execution_count": 22,
   "metadata": {},
   "outputs": [
    {
     "name": "stdout",
     "output_type": "stream",
     "text": [
      "{'35-44': [], '55-64': [], '45-54': [], '18-24': [], '25-34': [], '65-74': []}\n",
      "{'35-44': 16, '55-64': 7, '45-54': 15, '18-24': 9, '25-34': 33, '65-74': 2}\n"
     ]
    }
   ],
   "source": [
    "#[('35-44', 16), ('55-64', 7), ('45-54', 15), ('18-24', 9), ('25-34', 33), ('65-74', 2)]\n",
    "age_range = dict((x,[]) for x in age_ranges)\n",
    "print(age_range)\n",
    "age_range['18-24'] = 9\n",
    "age_range['25-34'] = 33\n",
    "age_range['35-44'] = 16\n",
    "age_range['45-54'] = 15\n",
    "age_range['55-64'] = 7\n",
    "age_range['65-74'] = 2\n",
    "print(age_range)"
   ]
  },
  {
   "cell_type": "code",
   "execution_count": 23,
   "metadata": {},
   "outputs": [
    {
     "name": "stdout",
     "output_type": "stream",
     "text": [
      "[('65-74', 2), ('55-64', 7), ('45-54', 15), ('35-44', 16), ('25-34', 33), ('18-24', 9)]\n"
     ]
    },
    {
     "data": {
      "image/png": "[encoded data removed]",
      "text/plain": [
       "<Figure size 1080x720 with 1 Axes>"
      ]
     },
     "metadata": {},
     "output_type": "display_data"
    }
   ],
   "source": [
    "#print(age_ranges)\n",
    "print(age_ranges_grp)\n",
    "\n",
    "#print(reflextime_average)\n",
    "#reflex_average_grp = sorted(reflextime_average.items(), key=lambda kv: kv, reverse=True)\n",
    "\n",
    "#print(reflex_average_grp)\n",
    "\n",
    "reflex_average_grp = sorted(age_ranges_dist.items(), key=lambda kv: kv, reverse=True)\n",
    "\n",
    "\n",
    "df_age_ranges = pd.DataFrame(age_ranges_grp, columns=['AgeRange','#'])\n",
    "\n",
    "df_age_ranges = df_age_ranges[::-1] \n",
    "# plot\n",
    "df_age_ranges.plot.bar(x='AgeRange', y='#', figsize=(15,10), stacked=True)\n",
    "# add a suptitle\n",
    "plt.suptitle(\"AgeRange Distribution\", fontsize=18)\n",
    "# set xlabel to \"\"\n",
    "plt.xlabel(\"\")\n",
    "# change xticks fontsize to 14\n",
    "plt.yticks(fontsize=18)\n",
    "# finally show the plot\n",
    "plt.show()"
   ]
  },
  {
   "cell_type": "code",
   "execution_count": 24,
   "metadata": {},
   "outputs": [],
   "source": [
    "import sklearn\n",
    "\n",
    "from sklearn import datasets, linear_model\n",
    "from sklearn.metrics import mean_squared_error, r2_score\n"
   ]
  },
  {
   "cell_type": "code",
   "execution_count": 25,
   "metadata": {},
   "outputs": [],
   "source": [
    "regr = linear_model.LinearRegression()"
   ]
  },
  {
   "cell_type": "code",
   "execution_count": 26,
   "metadata": {},
   "outputs": [
    {
     "name": "stdout",
     "output_type": "stream",
     "text": [
      "<class 'pandas.core.frame.DataFrame'>\n",
      "RangeIndex: 82 entries, 0 to 81\n",
      "Data columns (total 8 columns):\n",
      "Timestamp               82 non-null object\n",
      "AgeRange                82 non-null object\n",
      "State                   82 non-null object\n",
      "NativeEnglishSpeaker    82 non-null object\n",
      "ReflexTime              82 non-null float64\n",
      "WordsRemembered         82 non-null int64\n",
      "NativeSpeaker           82 non-null int64\n",
      "IsNewHampshire          82 non-null int64\n",
      "dtypes: float64(1), int64(3), object(4)\n",
      "memory usage: 5.2+ KB\n"
     ]
    }
   ],
   "source": [
    "data = pd.read_csv('./input/dmlc_responses.csv')\n",
    "data.info()"
   ]
  },
  {
   "cell_type": "code",
   "execution_count": 29,
   "metadata": {},
   "outputs": [
    {
     "data": {
      "text/html": [
       "<div>\n",
       "<style scoped>\n",
       "    .dataframe tbody tr th:only-of-type {\n",
       "        vertical-align: middle;\n",
       "    }\n",
       "\n",
       "    .dataframe tbody tr th {\n",
       "        vertical-align: top;\n",
       "    }\n",
       "\n",
       "    .dataframe thead th {\n",
       "        text-align: right;\n",
       "    }\n",
       "</style>\n",
       "<table border=\"1\" class=\"dataframe\">\n",
       "  <thead>\n",
       "    <tr style=\"text-align: right;\">\n",
       "      <th></th>\n",
       "      <th>Timestamp</th>\n",
       "      <th>AgeRange</th>\n",
       "      <th>State</th>\n",
       "      <th>NativeEnglishSpeaker</th>\n",
       "      <th>ReflexTime</th>\n",
       "      <th>WordsRemembered</th>\n",
       "      <th>NativeSpeaker</th>\n",
       "      <th>IsNewHampshire</th>\n",
       "    </tr>\n",
       "  </thead>\n",
       "  <tbody>\n",
       "    <tr>\n",
       "      <th>0</th>\n",
       "      <td>7/31/18 15:46</td>\n",
       "      <td>35-44</td>\n",
       "      <td>New Hampshire</td>\n",
       "      <td>No</td>\n",
       "      <td>0.427</td>\n",
       "      <td>6</td>\n",
       "      <td>0</td>\n",
       "      <td>1</td>\n",
       "    </tr>\n",
       "    <tr>\n",
       "      <th>1</th>\n",
       "      <td>7/31/18 16:07</td>\n",
       "      <td>55-64</td>\n",
       "      <td>New Hampshire</td>\n",
       "      <td>Yes</td>\n",
       "      <td>0.409</td>\n",
       "      <td>3</td>\n",
       "      <td>1</td>\n",
       "      <td>1</td>\n",
       "    </tr>\n",
       "    <tr>\n",
       "      <th>2</th>\n",
       "      <td>7/31/18 16:14</td>\n",
       "      <td>45-54</td>\n",
       "      <td>New Hampshire</td>\n",
       "      <td>Yes</td>\n",
       "      <td>0.390</td>\n",
       "      <td>5</td>\n",
       "      <td>1</td>\n",
       "      <td>1</td>\n",
       "    </tr>\n",
       "    <tr>\n",
       "      <th>3</th>\n",
       "      <td>7/31/18 16:19</td>\n",
       "      <td>55-64</td>\n",
       "      <td>Vermont</td>\n",
       "      <td>No</td>\n",
       "      <td>0.310</td>\n",
       "      <td>6</td>\n",
       "      <td>0</td>\n",
       "      <td>0</td>\n",
       "    </tr>\n",
       "    <tr>\n",
       "      <th>4</th>\n",
       "      <td>7/31/18 16:27</td>\n",
       "      <td>18-24</td>\n",
       "      <td>Vermont</td>\n",
       "      <td>Yes</td>\n",
       "      <td>0.410</td>\n",
       "      <td>6</td>\n",
       "      <td>1</td>\n",
       "      <td>0</td>\n",
       "    </tr>\n",
       "  </tbody>\n",
       "</table>\n",
       "</div>"
      ],
      "text/plain": [
       "       Timestamp AgeRange          State NativeEnglishSpeaker  ReflexTime  \\\n",
       "0  7/31/18 15:46    35-44  New Hampshire                   No       0.427   \n",
       "1  7/31/18 16:07    55-64  New Hampshire                  Yes       0.409   \n",
       "2  7/31/18 16:14    45-54  New Hampshire                  Yes       0.390   \n",
       "3  7/31/18 16:19    55-64        Vermont                   No       0.310   \n",
       "4  7/31/18 16:27    18-24        Vermont                  Yes       0.410   \n",
       "\n",
       "   WordsRemembered  NativeSpeaker  IsNewHampshire  \n",
       "0                6              0               1  \n",
       "1                3              1               1  \n",
       "2                5              1               1  \n",
       "3                6              0               0  \n",
       "4                6              1               0  "
      ]
     },
     "execution_count": 29,
     "metadata": {},
     "output_type": "execute_result"
    }
   ],
   "source": [
    "data.head()"
   ]
  },
  {
   "cell_type": "code",
   "execution_count": 34,
   "metadata": {},
   "outputs": [
    {
     "name": "stdout",
     "output_type": "stream",
     "text": [
      "[[0.322]\n",
      " [0.301]\n",
      " [0.43200000000000005]\n",
      " [0.278]\n",
      " [0.42]\n",
      " [0.309]\n",
      " [0.426]\n",
      " [0.218]\n",
      " [0.41]\n",
      " [0.268]\n",
      " [0.498]\n",
      " [0.27899999999999997]\n",
      " [0.285]\n",
      " [0.271]\n",
      " [0.337]\n",
      " [0.36]\n",
      " [0.31]\n",
      " [0.375]\n",
      " [0.428]\n",
      " [0.245]\n",
      " [0.27899999999999997]\n",
      " [0.68]\n",
      " [0.451]\n",
      " [0.301]\n",
      " [0.27899999999999997]\n",
      " [0.478]\n",
      " [0.39899999999999997]\n",
      " [0.295]\n",
      " [0.408]\n",
      " [0.271]\n",
      " [0.33]\n",
      " [0.313]\n",
      " [0.262]\n",
      " [0.275]\n",
      " [0.335]\n",
      " [0.247]\n",
      " [0.259]\n",
      " [0.341]\n",
      " [0.36200000000000004]\n",
      " [0.409]\n",
      " [0.316]\n",
      " [0.319]\n",
      " [0.39]\n",
      " [0.309]\n",
      " [0.34]\n",
      " [0.28]\n",
      " [0.42]\n",
      " [0.33]\n",
      " [0.298]\n",
      " [0.376]\n",
      " [0.47]\n",
      " [0.355]\n",
      " [0.345]\n",
      " [0.336]\n",
      " [0.363]\n",
      " [0.33799999999999997]\n",
      " [0.42700000000000005]\n",
      " [1.29]\n",
      " [0.294]\n",
      " [0.31]\n",
      " [0.355]]\n",
      "[5 5 6 8 9 1 7 5 6 1 5 6 9 10 6 2 5 6 6 4 7 0 6 7 4 7 3 7 5 5 5 7 7 8 8 8\n",
      " 6 5 5 3 7 6 5 5 10 9 3 2 5 8 5 4 5 5 5 10 6 13 9 6 0]\n"
     ]
    }
   ],
   "source": [
    "from sklearn.model_selection import train_test_split\n",
    "from sklearn import linear_model\n",
    "from sklearn.neighbors import KNeighborsRegressor\n",
    "from sklearn.preprocessing import PolynomialFeatures\n",
    "from sklearn import metrics\n",
    "import matplotlib.pyplot as plt\n",
    "import seaborn as sns\n",
    "from mpl_toolkits.mplot3d import Axes3D\n",
    "%matplotlib inline\n",
    "\n",
    "# splitting data\n",
    "train_data,test_data = train_test_split(data,random_state=3)\n",
    "lr = linear_model.LinearRegression()\n",
    "\n",
    "X_train = np.array(train_data['ReflexTime'], dtype=pd.Series).reshape(-1,1)\n",
    "#print(X_train)\n",
    "\n",
    "y_train = np.array(train_data['WordsRemembered'], dtype=pd.Series)\n",
    "#print(y_train)"
   ]
  },
  {
   "cell_type": "code",
   "execution_count": null,
   "metadata": {},
   "outputs": [],
   "source": []
  }
 ],
 "metadata": {
  "kernelspec": {
   "display_name": "Python 3",
   "language": "python",
   "name": "python3"
  },
  "language_info": {
   "codemirror_mode": {
    "name": "ipython",
    "version": 3
   },
   "file_extension": ".py",
   "mimetype": "text/x-python",
   "name": "python",
   "nbconvert_exporter": "python",
   "pygments_lexer": "ipython3",
   "version": "3.6.1"
  }
 },
 "nbformat": 4,
 "nbformat_minor": 2
}
