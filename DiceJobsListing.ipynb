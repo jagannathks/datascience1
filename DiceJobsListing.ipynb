{
 "cells": [
  {
   "cell_type": "code",
   "execution_count": 1,
   "metadata": {},
   "outputs": [
    {
     "name": "stdout",
     "output_type": "stream",
     "text": [
      "combats.csv\n",
      "dice_us_jobs.csv\n",
      "job_skills-1.csv\n",
      "job_skills-2.csv\n",
      "pokemon.csv\n",
      "tests.csv\n",
      "\n"
     ]
    }
   ],
   "source": [
    "# This Python 3 environment comes with many helpful analytics libraries installed\n",
    "# It is defined by the kaggle/python docker image: https://github.com/kaggle/docker-python\n",
    "# For example, here's several helpful packages to load in \n",
    "# pandas for handling our dataset\n",
    "import pandas as pd\n",
    "# numpy for numeric operations\n",
    "import numpy as np\n",
    "from collections import defaultdict\n",
    "\n",
    "# matplotlib for plotting\n",
    "import matplotlib.pyplot as plt\n",
    "# use ggplot style\n",
    "plt.style.use('ggplot')\n",
    "# seaborn for beautiful visualizations\n",
    "import seaborn as sns\n",
    "# regualar expression\n",
    "import re\n",
    "# print inline in this notebook\n",
    "%matplotlib inline\n",
    "\n",
    "# Input data files are available in the \"../input/\" directory.\n",
    "# For example, running this (by clicking run or pressing Shift+Enter) will list the files in the input directory\n",
    "\n",
    "from subprocess import check_output\n",
    "print(check_output([\"ls\", \"./input\"]).decode(\"utf8\"))\n",
    "\n",
    "# Any results you write to the current directory are saved as output.\n"
   ]
  },
  {
   "cell_type": "code",
   "execution_count": 2,
   "metadata": {},
   "outputs": [
    {
     "data": {
      "text/html": [
       "<div>\n",
       "<style scoped>\n",
       "    .dataframe tbody tr th:only-of-type {\n",
       "        vertical-align: middle;\n",
       "    }\n",
       "\n",
       "    .dataframe tbody tr th {\n",
       "        vertical-align: top;\n",
       "    }\n",
       "\n",
       "    .dataframe thead th {\n",
       "        text-align: right;\n",
       "    }\n",
       "</style>\n",
       "<table border=\"1\" class=\"dataframe\">\n",
       "  <thead>\n",
       "    <tr style=\"text-align: right;\">\n",
       "      <th></th>\n",
       "      <th>advertiserurl</th>\n",
       "      <th>company</th>\n",
       "      <th>employmenttype_jobstatus</th>\n",
       "      <th>jobdescription</th>\n",
       "      <th>jobid</th>\n",
       "      <th>joblocation_address</th>\n",
       "      <th>jobtitle</th>\n",
       "      <th>postdate</th>\n",
       "      <th>shift</th>\n",
       "      <th>site_name</th>\n",
       "      <th>skills</th>\n",
       "      <th>uniq_id</th>\n",
       "    </tr>\n",
       "  </thead>\n",
       "  <tbody>\n",
       "    <tr>\n",
       "      <th>0</th>\n",
       "      <td>https://www.dice.com/jobs/detail/AUTOMATION-TE...</td>\n",
       "      <td>Digital Intelligence Systems, LLC</td>\n",
       "      <td>C2H Corp-To-Corp, C2H Independent, C2H W2, 3 M...</td>\n",
       "      <td>Looking for Selenium engineers...must have sol...</td>\n",
       "      <td>Dice Id : 10110693</td>\n",
       "      <td>Atlanta, GA</td>\n",
       "      <td>AUTOMATION TEST ENGINEER</td>\n",
       "      <td>1 hour ago</td>\n",
       "      <td>Telecommuting not available|Travel not required</td>\n",
       "      <td>NaN</td>\n",
       "      <td>SEE BELOW</td>\n",
       "      <td>418ff92580b270ef4e7c14f0ddfc36b4</td>\n",
       "    </tr>\n",
       "    <tr>\n",
       "      <th>1</th>\n",
       "      <td>https://www.dice.com/jobs/detail/Information-S...</td>\n",
       "      <td>University of Chicago/IT Services</td>\n",
       "      <td>Full Time</td>\n",
       "      <td>The University of Chicago has a rapidly growin...</td>\n",
       "      <td>Dice Id : 10114469</td>\n",
       "      <td>Chicago, IL</td>\n",
       "      <td>Information Security Engineer</td>\n",
       "      <td>1 week ago</td>\n",
       "      <td>Telecommuting not available|Travel not required</td>\n",
       "      <td>NaN</td>\n",
       "      <td>linux/unix, network monitoring, incident respo...</td>\n",
       "      <td>8aec88cba08d53da65ab99cf20f6f9d9</td>\n",
       "    </tr>\n",
       "    <tr>\n",
       "      <th>2</th>\n",
       "      <td>https://www.dice.com/jobs/detail/Business-Solu...</td>\n",
       "      <td>Galaxy Systems, Inc.</td>\n",
       "      <td>Full Time</td>\n",
       "      <td>GalaxE.SolutionsEvery day, our solutions affec...</td>\n",
       "      <td>Dice Id : CXGALXYS</td>\n",
       "      <td>Schaumburg, IL</td>\n",
       "      <td>Business Solutions Architect</td>\n",
       "      <td>2 weeks ago</td>\n",
       "      <td>Telecommuting not available|Travel not required</td>\n",
       "      <td>NaN</td>\n",
       "      <td>Enterprise Solutions Architecture, business in...</td>\n",
       "      <td>46baa1f69ac07779274bcd90b85d9a72</td>\n",
       "    </tr>\n",
       "    <tr>\n",
       "      <th>3</th>\n",
       "      <td>https://www.dice.com/jobs/detail/Java-Develope...</td>\n",
       "      <td>TransTech LLC</td>\n",
       "      <td>Full Time</td>\n",
       "      <td>Java DeveloperFull-time/direct-hireBolingbrook...</td>\n",
       "      <td>Dice Id : 10113627</td>\n",
       "      <td>Bolingbrook, IL</td>\n",
       "      <td>Java Developer (mid level)- FT- GREAT culture,...</td>\n",
       "      <td>2 weeks ago</td>\n",
       "      <td>Telecommuting not available|Travel not required</td>\n",
       "      <td>NaN</td>\n",
       "      <td>Please see job description</td>\n",
       "      <td>3941b2f206ae0f900c4fba4ac0b18719</td>\n",
       "    </tr>\n",
       "    <tr>\n",
       "      <th>4</th>\n",
       "      <td>https://www.dice.com/jobs/detail/DevOps-Engine...</td>\n",
       "      <td>Matrix Resources</td>\n",
       "      <td>Full Time</td>\n",
       "      <td>Midtown based high tech firm has an immediate ...</td>\n",
       "      <td>Dice Id : matrixga</td>\n",
       "      <td>Atlanta, GA</td>\n",
       "      <td>DevOps Engineer</td>\n",
       "      <td>48 minutes ago</td>\n",
       "      <td>Telecommuting not available|Travel not required</td>\n",
       "      <td>NaN</td>\n",
       "      <td>Configuration Management, Developer, Linux, Ma...</td>\n",
       "      <td>45efa1f6bc65acc32bbbb953a1ed13b7</td>\n",
       "    </tr>\n",
       "  </tbody>\n",
       "</table>\n",
       "</div>"
      ],
      "text/plain": [
       "                                       advertiserurl  \\\n",
       "0  https://www.dice.com/jobs/detail/AUTOMATION-TE...   \n",
       "1  https://www.dice.com/jobs/detail/Information-S...   \n",
       "2  https://www.dice.com/jobs/detail/Business-Solu...   \n",
       "3  https://www.dice.com/jobs/detail/Java-Develope...   \n",
       "4  https://www.dice.com/jobs/detail/DevOps-Engine...   \n",
       "\n",
       "                             company  \\\n",
       "0  Digital Intelligence Systems, LLC   \n",
       "1  University of Chicago/IT Services   \n",
       "2               Galaxy Systems, Inc.   \n",
       "3                      TransTech LLC   \n",
       "4                   Matrix Resources   \n",
       "\n",
       "                            employmenttype_jobstatus  \\\n",
       "0  C2H Corp-To-Corp, C2H Independent, C2H W2, 3 M...   \n",
       "1                                          Full Time   \n",
       "2                                          Full Time   \n",
       "3                                          Full Time   \n",
       "4                                          Full Time   \n",
       "\n",
       "                                      jobdescription               jobid  \\\n",
       "0  Looking for Selenium engineers...must have sol...  Dice Id : 10110693   \n",
       "1  The University of Chicago has a rapidly growin...  Dice Id : 10114469   \n",
       "2  GalaxE.SolutionsEvery day, our solutions affec...  Dice Id : CXGALXYS   \n",
       "3  Java DeveloperFull-time/direct-hireBolingbrook...  Dice Id : 10113627   \n",
       "4  Midtown based high tech firm has an immediate ...  Dice Id : matrixga   \n",
       "\n",
       "  joblocation_address                                           jobtitle  \\\n",
       "0         Atlanta, GA                           AUTOMATION TEST ENGINEER   \n",
       "1         Chicago, IL                      Information Security Engineer   \n",
       "2      Schaumburg, IL                       Business Solutions Architect   \n",
       "3     Bolingbrook, IL  Java Developer (mid level)- FT- GREAT culture,...   \n",
       "4         Atlanta, GA                                    DevOps Engineer   \n",
       "\n",
       "         postdate                                            shift site_name  \\\n",
       "0      1 hour ago  Telecommuting not available|Travel not required       NaN   \n",
       "1      1 week ago  Telecommuting not available|Travel not required       NaN   \n",
       "2     2 weeks ago  Telecommuting not available|Travel not required       NaN   \n",
       "3     2 weeks ago  Telecommuting not available|Travel not required       NaN   \n",
       "4  48 minutes ago  Telecommuting not available|Travel not required       NaN   \n",
       "\n",
       "                                              skills  \\\n",
       "0                                          SEE BELOW   \n",
       "1  linux/unix, network monitoring, incident respo...   \n",
       "2  Enterprise Solutions Architecture, business in...   \n",
       "3                         Please see job description   \n",
       "4  Configuration Management, Developer, Linux, Ma...   \n",
       "\n",
       "                            uniq_id  \n",
       "0  418ff92580b270ef4e7c14f0ddfc36b4  \n",
       "1  8aec88cba08d53da65ab99cf20f6f9d9  \n",
       "2  46baa1f69ac07779274bcd90b85d9a72  \n",
       "3  3941b2f206ae0f900c4fba4ac0b18719  \n",
       "4  45efa1f6bc65acc32bbbb953a1ed13b7  "
      ]
     },
     "execution_count": 2,
     "metadata": {},
     "output_type": "execute_result"
    }
   ],
   "source": [
    "# read the data set using pandas .read_csv() method\n",
    "df_job_skills = pd.read_csv('./input/dice_us_jobs.csv')\n",
    "# print the top 5 row from the dataframe\n",
    "df_job_skills.head()"
   ]
  },
  {
   "cell_type": "code",
   "execution_count": 3,
   "metadata": {},
   "outputs": [],
   "source": [
    "# most popular language list \n",
    "programing_language_list = ['python', 'java', 'c++', 'php', 'javascript', 'objective-c', 'ruby', 'perl','c','c#', 'sql','kotlin']\n"
   ]
  },
  {
   "cell_type": "code",
   "execution_count": 8,
   "metadata": {},
   "outputs": [],
   "source": [
    "# get our Minimum Qualifications column and convert all of the values to a list\n",
    "minimum_qualifications = df_job_skills['skills'].tolist()\n",
    "# let's join our list to a single string and lower case the letter\n",
    "miniumum_qualifications_string = \"\".join(str(v) for v in minimum_qualifications).lower()"
   ]
  },
  {
   "cell_type": "code",
   "execution_count": 9,
   "metadata": {},
   "outputs": [
    {
     "name": "stdout",
     "output_type": "stream",
     "text": [
      "{'python': 929, 'java': 2211, 'c++': 544, 'php': 285, 'javascript': 1564, 'objective-c': 47, 'ruby': 309, 'perl': 399, 'c': 299, 'c#': 877, 'sql': 2914, 'kotlin': 1}\n"
     ]
    }
   ],
   "source": [
    "# find out which language occurs in most in minimum Qualifications string\n",
    "wordcount = dict((x,0) for x in programing_language_list)\n",
    "for w in re.findall(r\"[\\w'+#-]+|[.!?;’]\", miniumum_qualifications_string):\n",
    "    if w in wordcount:\n",
    "        wordcount[w] += 1\n",
    "# print\n",
    "print(wordcount)"
   ]
  },
  {
   "cell_type": "code",
   "execution_count": 10,
   "metadata": {},
   "outputs": [
    {
     "name": "stdout",
     "output_type": "stream",
     "text": [
      "[('sql', 2914), ('java', 2211), ('javascript', 1564), ('python', 929), ('c#', 877), ('c++', 544), ('perl', 399), ('ruby', 309), ('c', 299), ('php', 285), ('objective-c', 47), ('kotlin', 1)]\n"
     ]
    }
   ],
   "source": [
    "# sort the dict\n",
    "programming_language_popularity = sorted(wordcount.items(), key=lambda kv: kv[1], reverse=True)\n",
    "\n",
    "print(programming_language_popularity)"
   ]
  },
  {
   "cell_type": "code",
   "execution_count": 11,
   "metadata": {},
   "outputs": [
    {
     "name": "stdout",
     "output_type": "stream",
     "text": [
      "       Language  Popularity\n",
      "11       Kotlin           1\n",
      "10  Objective-c          47\n",
      "9           Php         285\n",
      "8             C         299\n",
      "7          Ruby         309\n",
      "6          Perl         399\n",
      "5           C++         544\n",
      "4            C#         877\n",
      "3        Python         929\n",
      "2    Javascript        1564\n",
      "1          Java        2211\n",
      "0           Sql        2914\n"
     ]
    }
   ],
   "source": [
    "# make a new dataframe using programming_language_popularity for easy use cases\n",
    "df_popular_programming_lang = pd.DataFrame(programming_language_popularity,columns=['Language','Popularity'])\n",
    "# Capitalize each programming language first letter\n",
    "df_popular_programming_lang['Language'] = df_popular_programming_lang.Language.str.capitalize()\n",
    "df_popular_programming_lang = df_popular_programming_lang[::-1]\n",
    "\n",
    "print(df_popular_programming_lang)"
   ]
  },
  {
   "cell_type": "code",
   "execution_count": 12,
   "metadata": {},
   "outputs": [
    {
     "data": {
      "image/png": "[encoded data removed]",
      "text/plain": [
       "<Figure size 720x576 with 1 Axes>"
      ]
     },
     "metadata": {},
     "output_type": "display_data"
    }
   ],
   "source": [
    "# plot\n",
    "df_popular_programming_lang.plot.barh(x='Language',y='Popularity',figsize=(10,8), legend=False)\n",
    "# add a suptitle\n",
    "plt.suptitle(\"Programming Languages popularity at Google Jobs\", fontsize=18)\n",
    "# set xlabel to \"\"\n",
    "plt.xlabel(\"Popularity\")\n",
    "# change xticks fontsize to 14\n",
    "plt.yticks(fontsize=14)\n",
    "# finally show the plot\n",
    "plt.show()"
   ]
  },
  {
   "cell_type": "code",
   "execution_count": 18,
   "metadata": {},
   "outputs": [],
   "source": [
    "# most popular language list \n",
    "title_list = ['software', 'sap', 'devops', 'security', 'frontend', 'quality', 'stack', 'developer','systems','manager', 'designer','analyst']\n"
   ]
  },
  {
   "cell_type": "code",
   "execution_count": 14,
   "metadata": {},
   "outputs": [],
   "source": [
    "# get our Minimum Qualifications column and convert all of the values to a list\n",
    "titles = df_job_skills['jobtitle'].tolist()\n",
    "# let's join our list to a single string and lower case the letter\n",
    "titles_string = \"\".join(str(v) for v in titles).lower()"
   ]
  },
  {
   "cell_type": "code",
   "execution_count": null,
   "metadata": {},
   "outputs": [],
   "source": []
  },
  {
   "cell_type": "code",
   "execution_count": 19,
   "metadata": {},
   "outputs": [
    {
     "name": "stdout",
     "output_type": "stream",
     "text": [
      "{'software': 986, 'sap': 139, 'devops': 146, 'security': 614, 'frontend': 16, 'quality': 116, 'stack': 255, 'developer': 1793, 'systems': 615, 'manager': 853, 'designer': 89, 'analyst': 906}\n"
     ]
    }
   ],
   "source": [
    "# find out which language occurs in most in minimum Qualifications string\n",
    "wordcount = dict((x,0) for x in title_list)\n",
    "for w in re.findall(r\"[\\w'+#-]+|[.!?;’]\", titles_string):\n",
    "    if w in wordcount:\n",
    "        wordcount[w] += 1\n",
    "# print\n",
    "print(wordcount)"
   ]
  },
  {
   "cell_type": "code",
   "execution_count": 20,
   "metadata": {},
   "outputs": [
    {
     "name": "stdout",
     "output_type": "stream",
     "text": [
      "[('developer', 1793), ('software', 986), ('analyst', 906), ('manager', 853), ('systems', 615), ('security', 614), ('stack', 255), ('devops', 146), ('sap', 139), ('quality', 116), ('designer', 89), ('frontend', 16)]\n"
     ]
    }
   ],
   "source": [
    "# sort the dict\n",
    "title_popularity = sorted(wordcount.items(), key=lambda kv: kv[1], reverse=True)\n",
    "\n",
    "print(title_popularity)"
   ]
  },
  {
   "cell_type": "code",
   "execution_count": 21,
   "metadata": {},
   "outputs": [
    {
     "name": "stdout",
     "output_type": "stream",
     "text": [
      "        Title  Popularity\n",
      "11   Frontend          16\n",
      "10   Designer          89\n",
      "9     Quality         116\n",
      "8         Sap         139\n",
      "7      Devops         146\n",
      "6       Stack         255\n",
      "5    Security         614\n",
      "4     Systems         615\n",
      "3     Manager         853\n",
      "2     Analyst         906\n",
      "1    Software         986\n",
      "0   Developer        1793\n"
     ]
    }
   ],
   "source": [
    "# make a new dataframe using programming_language_popularity for easy use cases\n",
    "df_title = pd.DataFrame(title_popularity,columns=['Title','Popularity'])\n",
    "# Capitalize each programming language first letter\n",
    "df_title['Title'] = df_title.Title.str.capitalize()\n",
    "df_title = df_title[::-1]\n",
    "\n",
    "print(df_title)"
   ]
  },
  {
   "cell_type": "code",
   "execution_count": 23,
   "metadata": {},
   "outputs": [
    {
     "data": {
      "image/png": "[encoded data removed]",
      "text/plain": [
       "<Figure size 720x576 with 1 Axes>"
      ]
     },
     "metadata": {},
     "output_type": "display_data"
    }
   ],
   "source": [
    "# plot\n",
    "df_title.plot.barh(x='Title', y='Popularity', figsize=(10,8), legend=False)\n",
    "# add a suptitle\n",
    "plt.suptitle(\"Titles list in DICE\", fontsize=18)\n",
    "# set xlabel to \"\"\n",
    "plt.xlabel(\"Popularity\")\n",
    "# change xticks fontsize to 14\n",
    "plt.yticks(fontsize=14)\n",
    "# finally show the plot\n",
    "plt.show()"
   ]
  },
  {
   "cell_type": "code",
   "execution_count": null,
   "metadata": {},
   "outputs": [],
   "source": []
  }
 ],
 "metadata": {
  "kernelspec": {
   "display_name": "Python 3",
   "language": "python",
   "name": "python3"
  },
  "language_info": {
   "codemirror_mode": {
    "name": "ipython",
    "version": 3
   },
   "file_extension": ".py",
   "mimetype": "text/x-python",
   "name": "python",
   "nbconvert_exporter": "python",
   "pygments_lexer": "ipython3",
   "version": "3.6.1"
  }
 },
 "nbformat": 4,
 "nbformat_minor": 2
}
